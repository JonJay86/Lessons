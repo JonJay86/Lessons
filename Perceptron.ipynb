{
  "nbformat": 4,
  "nbformat_minor": 0,
  "metadata": {
    "colab": {
      "provenance": [],
      "authorship_tag": "ABX9TyPm+RExaMrCcEvlBSieikIf",
      "include_colab_link": true
    },
    "kernelspec": {
      "name": "python3",
      "display_name": "Python 3"
    }
  },
  "cells": [
    {
      "cell_type": "markdown",
      "metadata": {
        "id": "view-in-github",
        "colab_type": "text"
      },
      "source": [
        "<a href=\"https://colab.research.google.com/github/JonJay86/Lessons/blob/main/Perceptron.ipynb\" target=\"_parent\"><img src=\"https://colab.research.google.com/assets/colab-badge.svg\" alt=\"Open In Colab\"/></a>"
      ]
    },
    {
      "cell_type": "code",
      "metadata": {
        "id": "7ywTnIGEYcaZ",
        "outputId": "46f95cbf-8aa9-48f1-b473-17b7d3c375e0",
        "colab": {
          "base_uri": "https://localhost:8080/",
          "height": 52
        }
      },
      "source": [
        "import glob\n",
        "import os, math, operator\n",
        "from operator import eq\n",
        "from collections import defaultdict, Counter\n",
        "import numpy as np\n",
        "import nltk, random\n",
        "from nltk.corpus import stopwords\n",
        "from sklearn.model_selection import train_test_split\n",
        "nltk.download('stopwords')\n",
        "stop_words = set(stopwords.words('english'))\n"
      ],
      "execution_count": null,
      "outputs": [
        {
          "output_type": "stream",
          "text": [
            "[nltk_data] Downloading package stopwords to /root/nltk_data...\n",
            "[nltk_data]   Unzipping corpora/stopwords.zip.\n"
          ],
          "name": "stdout"
        }
      ]
    },
    {
      "cell_type": "code",
      "metadata": {
        "id": "3c61E5mLYwfc",
        "outputId": "6f886c86-db60-460d-b15d-856869fa823b",
        "colab": {
          "base_uri": "https://localhost:8080/",
          "height": 55
        }
      },
      "source": [
        "!wget -nv  \"http://www.cs.cornell.edu/people/pabo/movie-review-data/review_polarity.tar.gz\""
      ],
      "execution_count": null,
      "outputs": [
        {
          "output_type": "stream",
          "text": [
            "2020-10-26 23:15:03 URL:http://www.cs.cornell.edu/people/pabo/movie-review-data/review_polarity.tar.gz [3127238/3127238] -> \"review_polarity.tar.gz\" [1]\n"
          ],
          "name": "stdout"
        }
      ]
    },
    {
      "cell_type": "code",
      "metadata": {
        "id": "mWKKvqU-ZElR"
      },
      "source": [
        "!tar -xf /content/review_polarity.tar.gz "
      ],
      "execution_count": null,
      "outputs": []
    },
    {
      "cell_type": "code",
      "metadata": {
        "id": "M2ZG9OQpZO88"
      },
      "source": [
        "flist=glob.glob('/content/txt_sentoken/*/*')\n",
        "testdocneg=glob.glob('/content/txt_sentoken/neg/cv000_29416.txt')\n",
        "testdocpos=glob.glob('/content/txt_sentoken/pos/cv000_29590.txt')\n",
        "minna=(testdocneg+testdocpos)"
      ],
      "execution_count": null,
      "outputs": []
    },
    {
      "cell_type": "code",
      "metadata": {
        "id": "r_52qnDrd5DA"
      },
      "source": [
        "poswords=[]\n",
        "negwords=[]\n",
        "for file in minna:\n",
        "  if \"pos\" in file:\n",
        "    pos = open(file, 'r').read().split()\n",
        "    poswords.extend([w for w in pos if w.isalnum() and w not in stop_words])\n",
        "  else:\n",
        "    neg = open(file, 'r').read().split()\n",
        "    negwords.extend([w for w in neg if w.isalnum() and w not in stop_words])\n"
      ],
      "execution_count": null,
      "outputs": []
    },
    {
      "cell_type": "code",
      "metadata": {
        "id": "8cRrOCH4mL4y"
      },
      "source": [
        "posfreq=Counter(poswords).most_common(10)\n",
        "negfreq=Counter(negwords).most_common(10)"
      ],
      "execution_count": null,
      "outputs": []
    },
    {
      "cell_type": "code",
      "metadata": {
        "id": "J4QZ6M2ty4PV",
        "outputId": "79f9a5b7-4ea8-40db-ba3e-e27cb13eb58f",
        "colab": {
          "base_uri": "https://localhost:8080/",
          "height": 195
        }
      },
      "source": [
        "posfreq"
      ],
      "execution_count": null,
      "outputs": [
        {
          "output_type": "execute_result",
          "data": {
            "text/plain": [
              "[('comic', 5),\n",
              " ('film', 5),\n",
              " ('like', 4),\n",
              " ('say', 4),\n",
              " ('book', 3),\n",
              " ('moore', 3),\n",
              " ('campbell', 3),\n",
              " ('ripper', 3),\n",
              " ('even', 3),\n",
              " ('world', 2)]"
            ]
          },
          "metadata": {
            "tags": []
          },
          "execution_count": 7
        }
      ]
    },
    {
      "cell_type": "code",
      "metadata": {
        "id": "MZhvoMmFrjRS"
      },
      "source": [
        "# negfq = defaultdict(lambda: 0)\n",
        "# posfq = defaultdict(lambda: 1)\n",
        "# for word, num in posfreq:\n",
        "#     posfq[word]\n"
      ],
      "execution_count": null,
      "outputs": []
    },
    {
      "cell_type": "code",
      "metadata": {
        "id": "Wc4aRpJmB1v_",
        "outputId": "a0f0c31d-ec8a-4698-c108-7d33569bc91c",
        "colab": {
          "base_uri": "https://localhost:8080/",
          "height": 212
        }
      },
      "source": [
        "# posfq"
      ],
      "execution_count": null,
      "outputs": [
        {
          "output_type": "execute_result",
          "data": {
            "text/plain": [
              "defaultdict(<function __main__.<lambda>>,\n",
              "            {'book': 1,\n",
              "             'campbell': 1,\n",
              "             'comic': 1,\n",
              "             'even': 1,\n",
              "             'film': 1,\n",
              "             'like': 1,\n",
              "             'moore': 1,\n",
              "             'ripper': 1,\n",
              "             'say': 1,\n",
              "             'world': 1})"
            ]
          },
          "metadata": {
            "tags": []
          },
          "execution_count": 20
        }
      ]
    },
    {
      "cell_type": "code",
      "metadata": {
        "id": "_XhCV6rOzLK-"
      },
      "source": [
        "# for word, num in negfreq:\n",
        "#   negfq[word] = 0"
      ],
      "execution_count": null,
      "outputs": []
    },
    {
      "cell_type": "code",
      "metadata": {
        "id": "05rirEjzD7xE"
      },
      "source": [
        "# for key in posfq.keys():\n",
        "#   if key in negfq.keys():\n",
        "#     posfq[key]=.5\n",
        "#     negfq[key]=.5"
      ],
      "execution_count": null,
      "outputs": []
    },
    {
      "cell_type": "code",
      "metadata": {
        "id": "IkhDgjMrpKm7"
      },
      "source": [
        "posx_traindata, posx_testdata= train_test_split(posfreq, test_size=.2, random_state=42)\n",
        "negx_traindata, negx_testdata= train_test_split(negfreq, test_size=.2, random_state=42)"
      ],
      "execution_count": null,
      "outputs": []
    },
    {
      "cell_type": "code",
      "metadata": {
        "id": "oqYZqq2oMkHn",
        "outputId": "8d1c5e54-c0c1-40db-ad40-b7e08fdabd9d",
        "colab": {
          "base_uri": "https://localhost:8080/",
          "height": 35
        }
      },
      "source": [
        "negx_testdata"
      ],
      "execution_count": null,
      "outputs": [
        {
          "output_type": "execute_result",
          "data": {
            "text/plain": [
              "[('like', 3), ('pretty', 5)]"
            ]
          },
          "metadata": {
            "tags": []
          },
          "execution_count": 27
        }
      ]
    },
    {
      "cell_type": "code",
      "metadata": {
        "id": "QqmtIgENyZJM"
      },
      "source": [
        "# pos_files[file]=[w for w in pos if w.isalnum()and w not in stop_words]\n",
        "# neg_files[file]= [w for w in neg if w.isalnum()and w not in stop_words]"
      ],
      "execution_count": null,
      "outputs": []
    },
    {
      "cell_type": "code",
      "metadata": {
        "id": "Vx9Z_0lvqGOV"
      },
      "source": [
        "\"\"\"Perceptron Train\"\"\"\n",
        "def perceptron_train(doc, maxiter=100):\n",
        "  weight=0\n",
        "  bias=0\n",
        "  for i in range(maxiter):\n",
        "    for word, score in doc:\n",
        "      prediction = sum(weight*score + bias)\n",
        "      if prediction <= 0:\n",
        "        weight += weight + (score-prediction)\n",
        "        # bias += bias +\n",
        "      else:\n",
        "        score == 0\n",
        "    return weight\n"
      ],
      "execution_count": null,
      "outputs": []
    },
    {
      "cell_type": "code",
      "metadata": {
        "id": "aNL30LaJRkKx",
        "outputId": "00457172-d5ff-483f-88f5-a22097424c11",
        "colab": {
          "base_uri": "https://localhost:8080/",
          "height": 292
        }
      },
      "source": [
        "perceptron_train(negx_traindata)"
      ],
      "execution_count": null,
      "outputs": [
        {
          "output_type": "error",
          "ename": "TypeError",
          "evalue": "ignored",
          "traceback": [
            "\u001b[0;31m---------------------------------------------------------------------------\u001b[0m",
            "\u001b[0;31mTypeError\u001b[0m                                 Traceback (most recent call last)",
            "\u001b[0;32m<ipython-input-36-a122e5b83e84>\u001b[0m in \u001b[0;36m<module>\u001b[0;34m()\u001b[0m\n\u001b[0;32m----> 1\u001b[0;31m \u001b[0mperceptron_train\u001b[0m\u001b[0;34m(\u001b[0m\u001b[0mnegx_traindata\u001b[0m\u001b[0;34m)\u001b[0m\u001b[0;34m\u001b[0m\u001b[0;34m\u001b[0m\u001b[0m\n\u001b[0m",
            "\u001b[0;32m<ipython-input-35-26ad34e92d9a>\u001b[0m in \u001b[0;36mperceptron_train\u001b[0;34m(doc, maxiter)\u001b[0m\n\u001b[1;32m      5\u001b[0m   \u001b[0;32mfor\u001b[0m \u001b[0mit\u001b[0m \u001b[0;32min\u001b[0m \u001b[0mrange\u001b[0m\u001b[0;34m(\u001b[0m\u001b[0mmaxiter\u001b[0m\u001b[0;34m)\u001b[0m\u001b[0;34m:\u001b[0m\u001b[0;34m\u001b[0m\u001b[0;34m\u001b[0m\u001b[0m\n\u001b[1;32m      6\u001b[0m     \u001b[0;32mfor\u001b[0m \u001b[0mword\u001b[0m\u001b[0;34m,\u001b[0m \u001b[0mscore\u001b[0m \u001b[0;32min\u001b[0m \u001b[0mdoc\u001b[0m\u001b[0;34m:\u001b[0m\u001b[0;34m\u001b[0m\u001b[0;34m\u001b[0m\u001b[0m\n\u001b[0;32m----> 7\u001b[0;31m       \u001b[0mprediction\u001b[0m \u001b[0;34m=\u001b[0m \u001b[0msum\u001b[0m\u001b[0;34m(\u001b[0m\u001b[0mweight\u001b[0m\u001b[0;34m*\u001b[0m\u001b[0mscore\u001b[0m \u001b[0;34m+\u001b[0m \u001b[0mbias\u001b[0m\u001b[0;34m)\u001b[0m\u001b[0;34m\u001b[0m\u001b[0;34m\u001b[0m\u001b[0m\n\u001b[0m\u001b[1;32m      8\u001b[0m       \u001b[0;32mif\u001b[0m \u001b[0mprediction\u001b[0m \u001b[0;34m<=\u001b[0m \u001b[0;36m0\u001b[0m\u001b[0;34m:\u001b[0m\u001b[0;34m\u001b[0m\u001b[0;34m\u001b[0m\u001b[0m\n\u001b[1;32m      9\u001b[0m         \u001b[0mweight\u001b[0m \u001b[0;34m+=\u001b[0m \u001b[0mweight\u001b[0m \u001b[0;34m+\u001b[0m \u001b[0;34m(\u001b[0m\u001b[0mscore\u001b[0m\u001b[0;34m-\u001b[0m\u001b[0mprediction\u001b[0m\u001b[0;34m)\u001b[0m\u001b[0;34m\u001b[0m\u001b[0;34m\u001b[0m\u001b[0m\n",
            "\u001b[0;31mTypeError\u001b[0m: 'int' object is not iterable"
          ]
        }
      ]
    }
  ]
}